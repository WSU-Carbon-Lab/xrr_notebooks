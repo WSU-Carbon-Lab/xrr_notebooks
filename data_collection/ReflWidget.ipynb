{
 "cells": [
  {
   "cell_type": "code",
   "execution_count": 98,
   "metadata": {},
   "outputs": [],
   "source": [
    "import sys\n",
    "import matplotlib.pyplot as plt\n",
    "from matplotlib.gridspec import GridSpec\n",
    "import warnings\n",
    "import pandas as pd\n",
    "warnings.filterwarnings('ignore')\n",
    "import numpy as np\n",
    "from tqdm.auto import tqdm\n",
    "\n",
    "import pandas as pd\n",
    "import seaborn as sns\n",
    "sys.path.append(r'reflutils')\n",
    "from reflutils import FileDialog, Refl, tree\n",
    "\n",
    "from pathlib import Path\n",
    "import ipywidgets as widgets\n",
    "from IPython.display import display, clear_output"
   ]
  },
  {
   "cell_type": "code",
   "execution_count": 4,
   "metadata": {},
   "outputs": [
    {
     "data": {
      "text/plain": [
       "[WindowsPath('C:/Users/hduva/Washington State University (email.wsu.edu)/Carbon Lab Research Group - Documents/Synchrotron Logistics and Data/ALS - Berkeley/Data/BL1101/2023Jun/XRR/Processed Data/ZRT/250.0/100.0'),\n",
       " WindowsPath('C:/Users/hduva/Washington State University (email.wsu.edu)/Carbon Lab Research Group - Documents/Synchrotron Logistics and Data/ALS - Berkeley/Data/BL1101/2023Jun/XRR/Processed Data/ZRT/283.7/100.0')]"
      ]
     },
     "metadata": {},
     "output_type": "display_data"
    },
    {
     "data": {
      "text/plain": [
       "[WindowsPath('C:/Users/hduva/Washington State University (email.wsu.edu)/Carbon Lab Research Group - Documents/Synchrotron Logistics and Data/ALS - Berkeley/Data/BL1101/2023Jun/XRR/Processed Data/ZRT/250.0/190.0'),\n",
       " WindowsPath('C:/Users/hduva/Washington State University (email.wsu.edu)/Carbon Lab Research Group - Documents/Synchrotron Logistics and Data/ALS - Berkeley/Data/BL1101/2023Jun/XRR/Processed Data/ZRT/283.7/190.0')]"
      ]
     },
     "metadata": {},
     "output_type": "display_data"
    },
    {
     "data": {
      "text/plain": [
       "[WindowsPath('C:/Users/hduva/Washington State University (email.wsu.edu)/Carbon Lab Research Group - Documents/Synchrotron Logistics and Data/ALS - Berkeley/Data/BL1101/2023Jun/XRR/Processed Data/ZC60/283.7/100.0'),\n",
       " WindowsPath('C:/Users/hduva/Washington State University (email.wsu.edu)/Carbon Lab Research Group - Documents/Synchrotron Logistics and Data/ALS - Berkeley/Data/BL1101/2023Jun/XRR/Processed Data/ZC60/284.0/100.0'),\n",
       " WindowsPath('C:/Users/hduva/Washington State University (email.wsu.edu)/Carbon Lab Research Group - Documents/Synchrotron Logistics and Data/ALS - Berkeley/Data/BL1101/2023Jun/XRR/Processed Data/ZC60/284.2/100.0')]"
      ]
     },
     "metadata": {},
     "output_type": "display_data"
    },
    {
     "data": {
      "text/plain": [
       "[WindowsPath('C:/Users/hduva/Washington State University (email.wsu.edu)/Carbon Lab Research Group - Documents/Synchrotron Logistics and Data/ALS - Berkeley/Data/BL1101/2023Jun/XRR/Processed Data/ZC60/283.7/190.0'),\n",
       " WindowsPath('C:/Users/hduva/Washington State University (email.wsu.edu)/Carbon Lab Research Group - Documents/Synchrotron Logistics and Data/ALS - Berkeley/Data/BL1101/2023Jun/XRR/Processed Data/ZC60/284.0/190.0'),\n",
       " WindowsPath('C:/Users/hduva/Washington State University (email.wsu.edu)/Carbon Lab Research Group - Documents/Synchrotron Logistics and Data/ALS - Berkeley/Data/BL1101/2023Jun/XRR/Processed Data/ZC60/284.2/190.0')]"
      ]
     },
     "metadata": {},
     "output_type": "display_data"
    }
   ],
   "source": [
    "# Frozen znpc uses outdated file sorting and needs to be handled separately\n",
    "# run only once\n",
    "\n",
    "ZRT = FileDialog.getDirectory()\n",
    "ZRTenergies = [e for e in ZRT.iterdir() if e.is_dir()]\n",
    "C60 = FileDialog.getDirectory()\n",
    "C60energies = [e for e in C60.iterdir() if e.is_dir()]\n",
    "\n",
    "zrt = [\"250.0\", \"283.7\"]\n",
    "c60 = [\"283.7\",\"284.0\", \"284.2\"]\n",
    "\n",
    "ZRTLong_scans_100 = [e / \"100.0\" for e in ZRTenergies if e.name in zrt]\n",
    "ZRTLong_scans_190 = [e / \"190.0\" for e in ZRTenergies if e.name in zrt]\n",
    "C60Long_scans_100 = [e / \"100.0\" for e in C60energies if e.name in c60]\n",
    "C60Long_scans_190 = [e / \"190.0\" for e in C60energies if e.name in c60]\n",
    "\n",
    "display(ZRTLong_scans_100)\n",
    "display(ZRTLong_scans_190)\n",
    "display(C60Long_scans_100)\n",
    "display(C60Long_scans_190)"
   ]
  },
  {
   "cell_type": "code",
   "execution_count": 5,
   "metadata": {},
   "outputs": [
    {
     "data": {
      "application/vnd.jupyter.widget-view+json": {
       "model_id": "be088fec557c43e08c281962c8306149",
       "version_major": 2,
       "version_minor": 0
      },
      "text/plain": [
       "  0%|          | 0/2 [00:00<?, ?it/s]"
      ]
     },
     "metadata": {},
     "output_type": "display_data"
    },
    {
     "data": {
      "application/vnd.jupyter.widget-view+json": {
       "model_id": "6ac04f3a181341ddb2a06f46c7c8ef58",
       "version_major": 2,
       "version_minor": 0
      },
      "text/plain": [
       "  0%|          | 0/2 [00:00<?, ?it/s]"
      ]
     },
     "metadata": {},
     "output_type": "display_data"
    },
    {
     "data": {
      "application/vnd.jupyter.widget-view+json": {
       "model_id": "007f42768b404a88b231675f1c9a766e",
       "version_major": 2,
       "version_minor": 0
      },
      "text/plain": [
       "  0%|          | 0/3 [00:00<?, ?it/s]"
      ]
     },
     "metadata": {},
     "output_type": "display_data"
    },
    {
     "data": {
      "application/vnd.jupyter.widget-view+json": {
       "model_id": "327ac1d0c08448c5b46aecc05fd1a4b0",
       "version_major": 2,
       "version_minor": 0
      },
      "text/plain": [
       "  0%|          | 0/3 [00:00<?, ?it/s]"
      ]
     },
     "metadata": {},
     "output_type": "display_data"
    }
   ],
   "source": [
    "# run only once\n",
    "\n",
    "ZRTRefl_100 = {e.parent.name: Refl(e) for e in tqdm(ZRTLong_scans_100)}\n",
    "ZRTRefl_190 = {e.parent.name: Refl(e) for e in tqdm(ZRTLong_scans_190)}\n",
    "\n",
    "C60Refl_100 = {e.parent.name: Refl(e) for e in tqdm(C60Long_scans_100)}\n",
    "C60Refl_190 = {e.parent.name: Refl(e) for e in tqdm(C60Long_scans_190)}\n",
    "\n",
    "for e in zrt:\n",
    "    ZRTRefl_100[e].refl.to_csv(f\"ZRT_{e}_100.csv\")\n",
    "    ZRTRefl_100[e].images.to_pickle(f\"ZRT_{e}_100.pickle\")\n",
    "    ZRTRefl_190[e].refl.to_csv(f\"ZRT_{e}_190.csv\")\n",
    "    ZRTRefl_190[e].images.to_pickle(f\"ZRT_{e}_190.pickle\")\n",
    "for e in c60:\n",
    "    C60Refl_100[e].refl.to_csv(f\"C60_{e}_100.csv\")\n",
    "    C60Refl_190[e].refl.to_csv(f\"C60_{e}_190.csv\")\n",
    "    C60Refl_100[e].images.to_pickle(f\"C60_{e}_100.pickle\")\n",
    "    C60Refl_190[e].images.to_pickle(f\"C60_{e}_190.pickle\")\n",
    "\n",
    "xrr = {\"zrt\": {\"100\": ZRTRefl_100, \"190\": ZRTRefl_190}, \"c60\": {\"100\": C60Refl_100, \"190\": C60Refl_190}}"
   ]
  },
  {
   "cell_type": "code",
   "execution_count": 145,
   "metadata": {},
   "outputs": [],
   "source": [
    "import matplotlib.pyplot as plt\n",
    "from matplotlib.gridspec import GridSpec\n",
    "import matplotlib.colors as mcolors\n",
    "import ipywidgets as widgets\n",
    "from ipywidgets import interact,  fixed\n",
    "import numpy as np\n",
    "%matplotlib widget\n",
    "\n",
    "\n",
    "def widget(sample, polarization, energy, q):\n",
    "    plt.close(\"all\")\n",
    "\n",
    "    obj = xrr[sample][polarization][energy]\n",
    "    images = obj.images.loc[obj.images[\"Q\"] == q]\n",
    "    point = obj.refl.loc[obj.refl[\"Q\"] == q]\n",
    "\n",
    "    imin = min([image.min() for image in obj.images[\"Beam\"]])\n",
    "    imax = max([image.max() for image in obj.images[\"Beam\"]])\n",
    "\n",
    "    ncols =  9# | masked | filtered | beam | dark | . . . refl . . . |\n",
    "    if len(images) == 1:\n",
    "        nrows = 2\n",
    "    else:\n",
    "        nrows = len(images) # | image 1 ... image N| and  | . . . refl . . . |\n",
    "\n",
    "    fig = plt.figure(figsize=(12, 6))\n",
    "    gs = GridSpec(nrows=nrows, ncols = ncols, figure=fig, wspace=0, hspace=0.1) \n",
    "\n",
    "    norm = mcolors.Normalize(vmin=imin, vmax=imax)\n",
    "    if len(images) == 1:\n",
    "        masked = fig.add_subplot(gs[0, 0], xticks=[], yticks=[])\n",
    "        masked.imshow(images[\"Masked\"].iloc[0], norm=norm, cmap=\"coolwarm\")\n",
    "\n",
    "        filter = fig.add_subplot(gs[0, 1], xticks=[], yticks=[])\n",
    "        filter.imshow(images[\"Filtered\"].iloc[0], norm=norm, cmap=\"coolwarm\")\n",
    "\n",
    "        beam = fig.add_subplot(gs[1,0], xticks=[], yticks=[])\n",
    "        beam.imshow(images[\"Beam\"].iloc[0], norm=norm, cmap=\"coolwarm\")\n",
    "\n",
    "        dark = fig.add_subplot(gs[1,1], xticks=[], yticks=[])\n",
    "        dark.imshow(images[\"Dark\"].iloc[0], norm=norm, cmap=\"coolwarm\")\n",
    "    else:\n",
    "        for i, image in enumerate(images[\"Masked\"]):\n",
    "            # generate axes\n",
    "            masked = fig.add_subplot(gs[i, 0], xticks=[], yticks=[])\n",
    "\n",
    "            masked.imshow(image, norm=norm, cmap=\"coolwarm\")\n",
    "\n",
    "            filter = fig.add_subplot(gs[i, 1], xticks=[], yticks=[])\n",
    "            filter.imshow(images[\"Filtered\"].iloc[i], norm=norm, cmap=\"coolwarm\")\n",
    "\n",
    "            beam = fig.add_subplot(gs[i, 2], xticks=[], yticks=[])\n",
    "            beam.imshow(images[\"Beam\"].iloc[i], norm=norm, cmap=\"coolwarm\")\n",
    "\n",
    "            dark = fig.add_subplot(gs[i, 3], xticks=[], yticks=[])\n",
    "            dark.imshow(images[\"Dark\"].iloc[i], norm=norm, cmap=\"coolwarm\")\n",
    "\n",
    "    colors = plt.cm.ScalarMappable(norm=norm, cmap=\"coolwarm\")\n",
    "    color_values = colors.to_rgba(obj.refl[\"RawRefl\"])\n",
    "    sns.set_style(\"darkgrid\")\n",
    "    refl = fig.add_subplot(gs[:, 4:])\n",
    "    refl.set_yscale(\"log\")\n",
    "    obj.plot(ax=refl, color=color_values, marker=\".\", label=\"Raw Reflectivity\")\n",
    "    refl.yaxis.tick_right()\n",
    "\n",
    "    refl.axvline(x=q, color=\"black\", linestyle=\"--\", alpha = .5)\n",
    "    refl.set_ylabel(\"Reflectivity\")\n",
    "    refl.legend()\n",
    "\n",
    "    cax = fig.add_axes([.1, 0.11, 0.01, 0.77])\n",
    "    cax.yaxis.set_ticks_position('left')\n",
    "    cb = plt.colorbar(plt.cm.ScalarMappable(norm=norm, cmap=\"coolwarm\"), cax=cax, format=\"%.1e\")\n",
    "    if len(point)> 0:\n",
    "        display(point)\n",
    "\n",
    "\n",
    "    plt.show()\n",
    "    \n",
    "def widgetWrapper(sample, polarization, energy):\n",
    "    refl = xrr[sample][polarization][energy]\n",
    "    q = widgets.SelectionSlider(options=refl.images[\"Q\"], description=\"Q\", continuous_update=False)\n",
    "    interact(widget, sample=fixed(sample), polarization=fixed(polarization), energy=fixed(energy), q=q)\n",
    "\n",
    "clear_output()"
   ]
  },
  {
   "cell_type": "code",
   "execution_count": 96,
   "metadata": {},
   "outputs": [
    {
     "data": {
      "application/vnd.jupyter.widget-view+json": {
       "model_id": "11871a5d797140f09a8f51eacf8e4cad",
       "version_major": 2,
       "version_minor": 0
      },
      "text/plain": [
       "interactive(children=(SelectionSlider(continuous_update=False, description='Q', options=(0.0, 0.0, 0.0, 0.0, 0…"
      ]
     },
     "metadata": {},
     "output_type": "display_data"
    }
   ],
   "source": [
    "widgetWrapper(\"zrt\", \"100\", \"250.0\")"
   ]
  },
  {
   "cell_type": "code",
   "execution_count": 99,
   "metadata": {},
   "outputs": [],
   "source": [
    "clear_output()"
   ]
  },
  {
   "cell_type": "code",
   "execution_count": 128,
   "metadata": {},
   "outputs": [
    {
     "data": {
      "application/vnd.jupyter.widget-view+json": {
       "model_id": "43dce3e785724bdaadaebd7e5e71c5eb",
       "version_major": 2,
       "version_minor": 0
      },
      "text/plain": [
       "interactive(children=(SelectionSlider(continuous_update=False, description='Q', options=(0.0, 0.0, 0.0, 0.0, 0…"
      ]
     },
     "metadata": {},
     "output_type": "display_data"
    }
   ],
   "source": [
    "widgetWrapper(\"zrt\", \"100\", \"283.7\")"
   ]
  },
  {
   "cell_type": "code",
   "execution_count": 7,
   "metadata": {},
   "outputs": [
    {
     "data": {
      "application/vnd.jupyter.widget-view+json": {
       "model_id": "629cd11dca6b41c5a48b379a72c78622",
       "version_major": 2,
       "version_minor": 0
      },
      "text/plain": [
       "interactive(children=(SelectionSlider(continuous_update=False, description='Q', options=(0.001, 0.0021, 0.0031…"
      ]
     },
     "metadata": {},
     "output_type": "display_data"
    }
   ],
   "source": [
    "widgetWrapper(\"zrt\", \"190\", \"250.0\")"
   ]
  },
  {
   "cell_type": "code",
   "execution_count": 8,
   "metadata": {},
   "outputs": [
    {
     "data": {
      "application/vnd.jupyter.widget-view+json": {
       "model_id": "643bc08ae58b48a78393d7b4a5bb9256",
       "version_major": 2,
       "version_minor": 0
      },
      "text/plain": [
       "interactive(children=(SelectionSlider(continuous_update=False, description='Q', options=(0.001, 0.0021, 0.0031…"
      ]
     },
     "metadata": {},
     "output_type": "display_data"
    }
   ],
   "source": [
    "widgetWrapper(\"zrt\", \"190\", \"283.7\")"
   ]
  },
  {
   "cell_type": "code",
   "execution_count": 9,
   "metadata": {},
   "outputs": [
    {
     "data": {
      "application/vnd.jupyter.widget-view+json": {
       "model_id": "2bfbaa5bbc5547aab1cc5d6223c8f4bd",
       "version_major": 2,
       "version_minor": 0
      },
      "text/plain": [
       "interactive(children=(SelectionSlider(continuous_update=False, description='Q', options=(0.001, 0.0021, 0.0031…"
      ]
     },
     "metadata": {},
     "output_type": "display_data"
    }
   ],
   "source": [
    "widgetWrapper(\"c60\", \"100\", \"283.7\")"
   ]
  },
  {
   "cell_type": "code",
   "execution_count": 10,
   "metadata": {},
   "outputs": [
    {
     "data": {
      "application/vnd.jupyter.widget-view+json": {
       "model_id": "d23d480c8d98494f8b45f67dcb6a4597",
       "version_major": 2,
       "version_minor": 0
      },
      "text/plain": [
       "interactive(children=(SelectionSlider(continuous_update=False, description='Q', options=(0.001, 0.0021, 0.0031…"
      ]
     },
     "metadata": {},
     "output_type": "display_data"
    }
   ],
   "source": [
    "widgetWrapper(\"c60\", \"100\", \"284.0\")"
   ]
  },
  {
   "cell_type": "code",
   "execution_count": 11,
   "metadata": {},
   "outputs": [
    {
     "data": {
      "application/vnd.jupyter.widget-view+json": {
       "model_id": "81f6c4dd0aa24c80b17951cb049789f3",
       "version_major": 2,
       "version_minor": 0
      },
      "text/plain": [
       "interactive(children=(SelectionSlider(continuous_update=False, description='Q', options=(0.001, 0.0021, 0.0031…"
      ]
     },
     "metadata": {},
     "output_type": "display_data"
    }
   ],
   "source": [
    "widgetWrapper(\"c60\", \"100\", \"284.2\")"
   ]
  },
  {
   "cell_type": "code",
   "execution_count": 100,
   "metadata": {},
   "outputs": [
    {
     "data": {
      "application/vnd.jupyter.widget-view+json": {
       "model_id": "86573e2dbf564299ab3653ca5b59330e",
       "version_major": 2,
       "version_minor": 0
      },
      "text/plain": [
       "interactive(children=(SelectionSlider(continuous_update=False, description='Q', options=(0.0, 0.0, 0.0, 0.0, 0…"
      ]
     },
     "metadata": {},
     "output_type": "display_data"
    },
    {
     "name": "stderr",
     "output_type": "stream",
     "text": [
      "No such comm: 0c55198669d14bacbcb6fd17eab1138d\n"
     ]
    },
    {
     "name": "stderr",
     "output_type": "stream",
     "text": [
      "No such comm: bac310b0a5e94d4788d2b9fdc6772c84\n"
     ]
    },
    {
     "name": "stderr",
     "output_type": "stream",
     "text": [
      "No such comm: a2e93d65db494a419b7c697cf4907b09\n"
     ]
    },
    {
     "name": "stderr",
     "output_type": "stream",
     "text": [
      "No such comm: 756e302cc0784091b478e233948ab6e2\n"
     ]
    },
    {
     "name": "stderr",
     "output_type": "stream",
     "text": [
      "No such comm: 4db665ec5f6d4719bb4a5032990ccd86\n"
     ]
    },
    {
     "name": "stderr",
     "output_type": "stream",
     "text": [
      "No such comm: 030292145ed846c2914fb66cfd911038\n"
     ]
    },
    {
     "name": "stderr",
     "output_type": "stream",
     "text": [
      "No such comm: 8820c9f29e394d6da605fc1798b5641b\n"
     ]
    },
    {
     "name": "stderr",
     "output_type": "stream",
     "text": [
      "No such comm: ed641671a4b0435e855b3ac3c2fd68ef\n"
     ]
    },
    {
     "name": "stderr",
     "output_type": "stream",
     "text": [
      "No such comm: fa35be196de344f4bae64cf13277117e\n"
     ]
    },
    {
     "name": "stderr",
     "output_type": "stream",
     "text": [
      "No such comm: 9db7d7997e804346ab9a8c4f4bafc02a\n"
     ]
    },
    {
     "name": "stderr",
     "output_type": "stream",
     "text": [
      "No such comm: c75e2a63274d489f8d3c86e23144f2fa\n"
     ]
    },
    {
     "name": "stderr",
     "output_type": "stream",
     "text": [
      "No such comm: 4daafe2f5a7c42a38990b35efa62c737\n"
     ]
    }
   ],
   "source": [
    "widgetWrapper(\"c60\", \"190\", \"283.7\")"
   ]
  },
  {
   "cell_type": "code",
   "execution_count": 107,
   "metadata": {},
   "outputs": [
    {
     "data": {
      "application/vnd.jupyter.widget-view+json": {
       "model_id": "1de9a5247da24dbcb6ebd39d9e7a5f59",
       "version_major": 2,
       "version_minor": 0
      },
      "text/plain": [
       "interactive(children=(SelectionSlider(continuous_update=False, description='Q', options=(0.0, 0.0, 0.0, 0.0, 0…"
      ]
     },
     "metadata": {},
     "output_type": "display_data"
    }
   ],
   "source": [
    "widgetWrapper(\"c60\", \"190\", \"284.0\")"
   ]
  },
  {
   "cell_type": "code",
   "execution_count": 124,
   "metadata": {},
   "outputs": [
    {
     "data": {
      "application/vnd.jupyter.widget-view+json": {
       "model_id": "9692c65c42ba466a82d18af6c9f48c44",
       "version_major": 2,
       "version_minor": 0
      },
      "text/plain": [
       "interactive(children=(SelectionSlider(continuous_update=False, description='Q', options=(0.0, 0.0, 0.0, 0.0, 0…"
      ]
     },
     "metadata": {},
     "output_type": "display_data"
    },
    {
     "name": "stderr",
     "output_type": "stream",
     "text": [
      "No such comm: 0528690e0fe44073ad0e0e6ec38c7b34\n"
     ]
    },
    {
     "name": "stderr",
     "output_type": "stream",
     "text": [
      "No such comm: 0ead1db9190c45cea38e8e320a4525ef\n"
     ]
    },
    {
     "name": "stderr",
     "output_type": "stream",
     "text": [
      "No such comm: 253eac09adb34c8984c7ff0d88f9e94c\n"
     ]
    },
    {
     "name": "stderr",
     "output_type": "stream",
     "text": [
      "No such comm: a7a995e0679546d6a70fa35f511cb908\n"
     ]
    }
   ],
   "source": [
    "widgetWrapper(\"c60\", \"190\", \"284.2\")"
   ]
  },
  {
   "cell_type": "code",
   "execution_count": 138,
   "metadata": {},
   "outputs": [
    {
     "data": {
      "application/vnd.jupyter.widget-view+json": {
       "model_id": "ae8638efb4234ffb947ce001cdcaa5bb",
       "version_major": 2,
       "version_minor": 0
      },
      "image/png": "[encoded data removed]",
      "text/html": [
       "\n",
       "            <div style=\"display: inline-block;\">\n",
       "                <div class=\"jupyter-widgets widget-label\" style=\"text-align: center;\">\n",
       "                    Figure\n",
       "                </div>\n",
       "                <img src='data:image/png;base64,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' width=640.0/>\n",
       "            </div>\n",
       "        "
      ],
      "text/plain": [
       "Canvas(toolbar=Toolbar(toolitems=[('Home', 'Reset original view', 'home', 'home'), ('Back', 'Back to previous …"
      ]
     },
     "metadata": {},
     "output_type": "display_data"
    }
   ],
   "source": [
    "short_scan = FileDialog.getDirectory()\n",
    "short_xrr = Refl(short_scan)\n",
    "short_xrr.plot()"
   ]
  },
  {
   "cell_type": "code",
   "execution_count": 144,
   "metadata": {},
   "outputs": [
    {
     "data": {
      "application/vnd.jupyter.widget-view+json": {
       "model_id": "70b862db54164b42a92a643734dc0dc2",
       "version_major": 2,
       "version_minor": 0
      },
      "text/plain": [
       "interactive(children=(IntSlider(value=10, description='i', max=20), Output()), _dom_classes=('widget-interact'…"
      ]
     },
     "metadata": {},
     "output_type": "display_data"
    },
    {
     "name": "stderr",
     "output_type": "stream",
     "text": [
      "No such comm: f15b83faa5fb4579a40786ac1b5bf2e4\n"
     ]
    },
    {
     "name": "stderr",
     "output_type": "stream",
     "text": [
      "No such comm: a827f1739fde4159a0f0d4309b9677c6\n"
     ]
    },
    {
     "name": "stderr",
     "output_type": "stream",
     "text": [
      "No such comm: 59618fc917f54d438ecdf902e2e6f17f\n"
     ]
    },
    {
     "name": "stderr",
     "output_type": "stream",
     "text": [
      "No such comm: 2d07d5b0e886479bb43e91517eb7e52b\n"
     ]
    },
    {
     "name": "stderr",
     "output_type": "stream",
     "text": [
      "No such comm: 2e32be9697a04586b2ac9b1ce4915780\n"
     ]
    },
    {
     "name": "stderr",
     "output_type": "stream",
     "text": [
      "No such comm: fe1187c38dd04b73ac98ed9239b702cc\n"
     ]
    },
    {
     "name": "stderr",
     "output_type": "stream",
     "text": [
      "No such comm: 8975c22aa8124b39b20497e8263fb9c4\n"
     ]
    },
    {
     "name": "stderr",
     "output_type": "stream",
     "text": [
      "No such comm: efe23df5fe154263b6e202c4c7b69958\n"
     ]
    },
    {
     "name": "stderr",
     "output_type": "stream",
     "text": [
      "No such comm: 9aed9af3dc52484c886521ef4596db31\n"
     ]
    }
   ],
   "source": [
    "@interact(i = (0,20,1))\n",
    "def show(i):\n",
    "    plt.close(\"all\")\n",
    "    im = short_xrr.images[\"Masked\"].iloc[i]\n",
    "    min = im.min()\n",
    "    max = im.max()\n",
    "    norm = mcolors.Normalize(vmin=min, vmax=max)\n",
    "\n",
    "    fig, ax = plt.subplots()\n",
    "    ax.imshow(im, norm=norm, cmap=\"coolwarm\")\n",
    "    cb = plt.colorbar(plt.cm.ScalarMappable(norm=norm, cmap=\"coolwarm\"), ax=ax)\n",
    "\n",
    "    plt.show()"
   ]
  },
  {
   "cell_type": "code",
   "execution_count": null,
   "metadata": {},
   "outputs": [],
   "source": []
  }
 ],
 "metadata": {
  "kernelspec": {
   "display_name": "Python 3 (ipykernel)",
   "language": "python",
   "name": "python3"
  },
  "language_info": {
   "codemirror_mode": {
    "name": "ipython",
    "version": 3
   },
   "file_extension": ".py",
   "mimetype": "text/x-python",
   "name": "python",
   "nbconvert_exporter": "python",
   "pygments_lexer": "ipython3",
   "version": "3.11.5"
  }
 },
 "nbformat": 4,
 "nbformat_minor": 4
}
