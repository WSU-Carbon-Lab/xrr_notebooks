{
 "cells": [
  {
   "cell_type": "code",
   "execution_count": 1,
   "metadata": {},
   "outputs": [],
   "source": [
    "import runfile\n",
    "from pathlib import Path"
   ]
  },
  {
   "cell_type": "code",
   "execution_count": 3,
   "metadata": {},
   "outputs": [
    {
     "name": "stdout",
     "output_type": "stream",
     "text": [
      "shape: (286_614, 9)\n",
      "┌──────────┬──────────┬──────────┬────────┬───┬───────────────┬──────────────┬──────────┬──────────┐\n",
      "│ Sample X ┆ Sample Y ┆ Sample Z ┆ Sample ┆ … ┆ Higher Order  ┆ Horizontal   ┆ Beamline ┆ Exposure │\n",
      "│ ---      ┆ ---      ┆ ---      ┆ Theta  ┆   ┆ Suppressor    ┆ Exit Slit    ┆ Energy   ┆ ---      │\n",
      "│ f64      ┆ f64      ┆ f64      ┆ ---    ┆   ┆ ---           ┆ Size         ┆ ---      ┆ f64      │\n",
      "│          ┆          ┆          ┆ f64    ┆   ┆ f64           ┆ ---          ┆ f64      ┆          │\n",
      "│          ┆          ┆          ┆        ┆   ┆               ┆ f64          ┆          ┆          │\n",
      "╞══════════╪══════════╪══════════╪════════╪═══╪═══════════════╪══════════════╪══════════╪══════════╡\n",
      "│ 12.4     ┆ 4.5      ┆ -1.0     ┆ 0.0    ┆ … ┆ 8.9           ┆ 3000.0       ┆ 250.0    ┆ 0.001    │\n",
      "│ 12.4     ┆ 4.5      ┆ -1.0     ┆ 0.0    ┆ … ┆ 8.9           ┆ 3000.0       ┆ 250.0    ┆ 0.001    │\n",
      "│ 12.4     ┆ 4.5      ┆ -1.0     ┆ 0.0    ┆ … ┆ 8.9           ┆ 3000.0       ┆ 250.0    ┆ 0.001    │\n",
      "│ 12.4     ┆ 4.5      ┆ -1.0     ┆ 0.0    ┆ … ┆ 8.9           ┆ 3000.0       ┆ 250.0    ┆ 0.001    │\n",
      "│ 12.4     ┆ 4.5      ┆ -1.0     ┆ 0.0    ┆ … ┆ 8.9           ┆ 3000.0       ┆ 250.0    ┆ 0.001    │\n",
      "│ …        ┆ …        ┆ …        ┆ …      ┆ … ┆ …             ┆ …            ┆ …        ┆ …        │\n",
      "│ 14.5     ┆ 4.5      ┆ -0.5     ┆ 69.99  ┆ … ┆ 6.0           ┆ 3000.0       ┆ 284.2    ┆ 10.0     │\n",
      "│ 14.5     ┆ 4.5      ┆ -0.5     ┆ 70.0   ┆ … ┆ 6.0           ┆ 3000.0       ┆ 284.2    ┆ 10.0     │\n",
      "│ 14.5     ┆ 4.5      ┆ -0.5     ┆ 70.0   ┆ … ┆ 6.0           ┆ 3000.0       ┆ 284.2    ┆ 10.0     │\n",
      "│ 14.5     ┆ 4.5      ┆ -0.5     ┆ 70.0   ┆ … ┆ 6.0           ┆ 3000.0       ┆ 284.2    ┆ 10.0     │\n",
      "│ 14.5     ┆ 4.5      ┆ -0.5     ┆ 70.0   ┆ … ┆ 6.0           ┆ 3000.0       ┆ 284.2    ┆ 10.0     │\n",
      "└──────────┴──────────┴──────────┴────────┴───┴───────────────┴──────────────┴──────────┴──────────┘\n"
     ]
    }
   ],
   "source": [
    "runfile.runfile(Path.cwd() / \"config.yaml\")"
   ]
  },
  {
   "cell_type": "code",
   "execution_count": null,
   "metadata": {},
   "outputs": [],
   "source": []
  },
  {
   "cell_type": "code",
   "execution_count": null,
   "metadata": {},
   "outputs": [],
   "source": []
  }
 ],
 "metadata": {
  "kernelspec": {
   "display_name": "xrr_notebooks",
   "language": "python",
   "name": "python3"
  },
  "language_info": {
   "codemirror_mode": {
    "name": "ipython",
    "version": 3
   },
   "file_extension": ".py",
   "mimetype": "text/x-python",
   "name": "python",
   "nbconvert_exporter": "python",
   "pygments_lexer": "ipython3",
   "version": "3.12.3"
  }
 },
 "nbformat": 4,
 "nbformat_minor": 4
}
