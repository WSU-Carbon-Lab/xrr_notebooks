{
 "cells": [
  {
   "cell_type": "code",
   "execution_count": 1,
   "metadata": {},
   "outputs": [],
   "source": [
    "import runfile"
   ]
  },
  {
   "cell_type": "code",
   "execution_count": 2,
   "metadata": {},
   "outputs": [
    {
     "name": "stdout",
     "output_type": "stream",
     "text": [
      "shape: (286_614, 9)\n",
      "┌──────┬─────┬──────┬───────────┬───┬─────┬────────┬────────┬───────┐\n",
      "│ x    ┆ y   ┆ z    ┆ theta     ┆ … ┆ hos ┆ hes    ┆ energy ┆ et    │\n",
      "│ ---  ┆ --- ┆ ---  ┆ ---       ┆   ┆ --- ┆ ---    ┆ ---    ┆ ---   │\n",
      "│ f64  ┆ f64 ┆ f64  ┆ f64       ┆   ┆ f64 ┆ f64    ┆ f64    ┆ f64   │\n",
      "╞══════╪═════╪══════╪═══════════╪═══╪═════╪════════╪════════╪═══════╡\n",
      "│ 12.4 ┆ 4.5 ┆ -0.5 ┆ 0.0       ┆ … ┆ 8.9 ┆ 3000.0 ┆ 250.0  ┆ 0.001 │\n",
      "│ 12.4 ┆ 4.5 ┆ -0.5 ┆ 0.0       ┆ … ┆ 8.9 ┆ 3000.0 ┆ 250.0  ┆ 0.001 │\n",
      "│ 12.4 ┆ 4.5 ┆ -0.5 ┆ 0.0       ┆ … ┆ 8.9 ┆ 3000.0 ┆ 250.0  ┆ 0.001 │\n",
      "│ 12.4 ┆ 4.5 ┆ -0.5 ┆ 0.0       ┆ … ┆ 8.9 ┆ 3000.0 ┆ 250.0  ┆ 0.001 │\n",
      "│ 12.4 ┆ 4.5 ┆ -0.5 ┆ 0.0       ┆ … ┆ 8.9 ┆ 3000.0 ┆ 250.0  ┆ 0.001 │\n",
      "│ …    ┆ …   ┆ …    ┆ …         ┆ … ┆ …   ┆ …      ┆ …      ┆ …     │\n",
      "│ 14.5 ┆ 4.5 ┆ -0.5 ┆ 69.993915 ┆ … ┆ 6.0 ┆ 3000.0 ┆ 284.2  ┆ 10.0  │\n",
      "│ 14.5 ┆ 4.5 ┆ -0.5 ┆ 69.995436 ┆ … ┆ 6.0 ┆ 3000.0 ┆ 284.2  ┆ 10.0  │\n",
      "│ 14.5 ┆ 4.5 ┆ -0.5 ┆ 69.996957 ┆ … ┆ 6.0 ┆ 3000.0 ┆ 284.2  ┆ 10.0  │\n",
      "│ 14.5 ┆ 4.5 ┆ -0.5 ┆ 69.998479 ┆ … ┆ 6.0 ┆ 3000.0 ┆ 284.2  ┆ 10.0  │\n",
      "│ 14.5 ┆ 4.5 ┆ -0.5 ┆ 70.0      ┆ … ┆ 6.0 ┆ 3000.0 ┆ 284.2  ┆ 10.0  │\n",
      "└──────┴─────┴──────┴───────────┴───┴─────┴────────┴────────┴───────┘\n"
     ]
    }
   ],
   "source": [
    "runfile.runfile()"
   ]
  },
  {
   "cell_type": "code",
   "execution_count": null,
   "metadata": {},
   "outputs": [],
   "source": []
  }
 ],
 "metadata": {
  "kernelspec": {
   "display_name": "pypxr1",
   "language": "python",
   "name": "python3"
  },
  "language_info": {
   "codemirror_mode": {
    "name": "ipython",
    "version": 3
   },
   "file_extension": ".py",
   "mimetype": "text/x-python",
   "name": "python",
   "nbconvert_exporter": "python",
   "pygments_lexer": "ipython3",
   "version": "3.12.2"
  },
  "vscode": {
   "interpreter": {
    "hash": "0b7c11e2e6346d225c31f6f05db621efff5c28ee0b2185af9730a9bcb500bdec"
   }
  }
 },
 "nbformat": 4,
 "nbformat_minor": 4
}
