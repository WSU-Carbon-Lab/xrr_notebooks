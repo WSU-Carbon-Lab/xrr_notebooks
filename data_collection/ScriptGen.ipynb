{
 "cells": [
  {
   "cell_type": "code",
   "execution_count": 1,
   "metadata": {},
   "outputs": [],
   "source": [
    "import runfile"
   ]
  },
  {
   "cell_type": "code",
   "execution_count": 2,
   "metadata": {},
   "outputs": [
    {
     "name": "stdout",
     "output_type": "stream",
     "text": [
      "Created C:\\Users\\hduva\\Washington State University (email.wsu.edu)\\Carbon Lab Research Group - Documents\\Synchrotron Logistics and Data\\ALS - Berkeley\\Data\\BL1101\\2024Jun\\XRR\\.macro\\2024 06 25\n",
      "          theta         ccd  hos     hes      et     x  energy    y    z\n",
      "0      2.000000    4.000000  8.0  3000.0   0.001  12.4   250.0  4.5 -0.5\n",
      "1      2.000592    4.001185  8.0  3000.0   0.001  12.4   250.0  4.5 -0.5\n",
      "2      2.001185    4.002370  8.0  3000.0   0.001  12.4   250.0  4.5 -0.5\n",
      "3      2.001777    4.003555  8.0  3000.0   0.001  12.4   250.0  4.5 -0.5\n",
      "4      2.002370    4.004739  8.0  3000.0   0.001  12.4   250.0  4.5 -0.5\n",
      "...         ...         ...  ...     ...     ...   ...     ...  ...  ...\n",
      "8107  69.993915  139.987830  6.0  3000.0  10.000  13.0   284.2  4.7 -0.5\n",
      "8108  69.995436  139.990872  6.0  3000.0  10.000  13.0   284.2  4.7 -0.5\n",
      "8109  69.996957  139.993914  6.0  3000.0  10.000  13.0   284.2  4.7 -0.5\n",
      "8110  69.998479  139.996957  6.0  3000.0  10.000  13.0   284.2  4.7 -0.5\n",
      "8111  70.000000  140.000000  6.0  3000.0  10.000  13.0   284.2  4.7 -0.5\n",
      "\n",
      "[286584 rows x 9 columns]\n",
      "         x    y    z      theta         ccd  hos     hes  energy      et\n",
      "0     12.4  4.5 -0.5   2.000000    4.000000  8.0  3000.0   250.0   0.001\n",
      "1     12.4  4.5 -0.5   2.000592    4.001185  8.0  3000.0   250.0   0.001\n",
      "2     12.4  4.5 -0.5   2.001185    4.002370  8.0  3000.0   250.0   0.001\n",
      "3     12.4  4.5 -0.5   2.001777    4.003555  8.0  3000.0   250.0   0.001\n",
      "4     12.4  4.5 -0.5   2.002370    4.004739  8.0  3000.0   250.0   0.001\n",
      "...    ...  ...  ...        ...         ...  ...     ...     ...     ...\n",
      "8107  13.0  4.7 -0.5  69.993915  139.987830  6.0  3000.0   284.2  10.000\n",
      "8108  13.0  4.7 -0.5  69.995436  139.990872  6.0  3000.0   284.2  10.000\n",
      "8109  13.0  4.7 -0.5  69.996957  139.993914  6.0  3000.0   284.2  10.000\n",
      "8110  13.0  4.7 -0.5  69.998479  139.996957  6.0  3000.0   284.2  10.000\n",
      "8111  13.0  4.7 -0.5  70.000000  140.000000  6.0  3000.0   284.2  10.000\n",
      "\n",
      "[286584 rows x 9 columns]\n"
     ]
    }
   ],
   "source": [
    "runfile.runfile()"
   ]
  },
  {
   "cell_type": "code",
   "execution_count": null,
   "metadata": {},
   "outputs": [],
   "source": []
  }
 ],
 "metadata": {
  "kernelspec": {
   "display_name": "pypxr1",
   "language": "python",
   "name": "python3"
  },
  "language_info": {
   "codemirror_mode": {
    "name": "ipython",
    "version": 3
   },
   "file_extension": ".py",
   "mimetype": "text/x-python",
   "name": "python",
   "nbconvert_exporter": "python",
   "pygments_lexer": "ipython3",
   "version": "3.12.2"
  },
  "vscode": {
   "interpreter": {
    "hash": "0b7c11e2e6346d225c31f6f05db621efff5c28ee0b2185af9730a9bcb500bdec"
   }
  }
 },
 "nbformat": 4,
 "nbformat_minor": 4
}
