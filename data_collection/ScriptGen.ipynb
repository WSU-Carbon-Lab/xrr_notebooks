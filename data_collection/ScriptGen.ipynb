{
 "cells": [
  {
   "cell_type": "code",
   "execution_count": 1,
   "metadata": {},
   "outputs": [],
   "source": [
    "import runfile"
   ]
  },
  {
   "cell_type": "code",
   "execution_count": 2,
   "metadata": {},
   "outputs": [
    {
     "name": "stdout",
     "output_type": "stream",
     "text": [
      "shape: (1,)\n",
      "Series: '250' [struct[4]]\n",
      "[\n",
      "\t{[2, 10, … 70],[8, 7, … 6],[0.001, 0.001, … 10.0],[3000, 3000, … 3000]}\n",
      "]\n"
     ]
    },
    {
     "ename": "TypeError",
     "evalue": "cannot use `__getitem__` on Series of dtype Struct({'theta': List(Int64), 'hos': List(Int64), 'et': List(Float64), 'hes': List(Int64)}) with argument 'theta' of type 'str'",
     "output_type": "error",
     "traceback": [
      "\u001b[1;31m---------------------------------------------------------------------------\u001b[0m",
      "\u001b[1;31mTypeError\u001b[0m                                 Traceback (most recent call last)",
      "Cell \u001b[1;32mIn[2], line 1\u001b[0m\n\u001b[1;32m----> 1\u001b[0m \u001b[43mrunfile\u001b[49m\u001b[38;5;241;43m.\u001b[39;49m\u001b[43mrunfile\u001b[49m\u001b[43m(\u001b[49m\u001b[43m)\u001b[49m\n",
      "File \u001b[1;32mc:\\Users\\hduva\\pyref\\docs\\notebooks\\data_collection\\runfile.py:283\u001b[0m, in \u001b[0;36mrunfile\u001b[1;34m()\u001b[0m\n\u001b[0;32m    280\u001b[0m     \u001b[38;5;28mprint\u001b[39m(\u001b[38;5;124mf\u001b[39m\u001b[38;5;124m\"\u001b[39m\u001b[38;5;124mCreated \u001b[39m\u001b[38;5;132;01m{\u001b[39;00mall_data_path\u001b[38;5;132;01m}\u001b[39;00m\u001b[38;5;124m\"\u001b[39m)\n\u001b[0;32m    282\u001b[0m \u001b[38;5;66;03m# Generate the runfile\u001b[39;00m\n\u001b[1;32m--> 283\u001b[0m df, name \u001b[38;5;241m=\u001b[39m \u001b[43mgenerate_runfile\u001b[49m\u001b[43m(\u001b[49m\u001b[43msave_path\u001b[49m\u001b[43m)\u001b[49m\n\u001b[0;32m    284\u001b[0m \u001b[38;5;28mprint\u001b[39m(pl\u001b[38;5;241m.\u001b[39mDataFrame(df))\n\u001b[0;32m    286\u001b[0m df[\u001b[38;5;124m\"\u001b[39m\u001b[38;5;124mname\u001b[39m\u001b[38;5;124m\"\u001b[39m] \u001b[38;5;241m=\u001b[39m name\n",
      "File \u001b[1;32mc:\\Users\\hduva\\pyref\\docs\\notebooks\\data_collection\\runfile.py:180\u001b[0m, in \u001b[0;36mgenerate_runfile\u001b[1;34m(macro_folder)\u001b[0m\n\u001b[0;32m    178\u001b[0m df \u001b[38;5;241m=\u001b[39m []\n\u001b[0;32m    179\u001b[0m \u001b[38;5;28;01mfor\u001b[39;00m i, en \u001b[38;5;129;01min\u001b[39;00m \u001b[38;5;28menumerate\u001b[39m(df_stitches\u001b[38;5;241m.\u001b[39mcolumns):\n\u001b[1;32m--> 180\u001b[0m     energy_df \u001b[38;5;241m=\u001b[39m \u001b[43mprocess_energy\u001b[49m\u001b[43m(\u001b[49m\u001b[43mdf_stitches\u001b[49m\u001b[43m[\u001b[49m\u001b[43men\u001b[49m\u001b[43m]\u001b[49m\u001b[43m,\u001b[49m\u001b[43m \u001b[49m\u001b[43mconfig\u001b[49m\u001b[43m,\u001b[49m\u001b[43m \u001b[49m\u001b[38;5;28;43mfloat\u001b[39;49m\u001b[43m(\u001b[49m\u001b[43men\u001b[49m\u001b[43m)\u001b[49m\u001b[43m)\u001b[49m\n\u001b[0;32m    181\u001b[0m     energy_df[\u001b[38;5;124m\"\u001b[39m\u001b[38;5;124my\u001b[39m\u001b[38;5;124m\"\u001b[39m] \u001b[38;5;241m=\u001b[39m config[\u001b[38;5;124m\"\u001b[39m\u001b[38;5;124mgeometry\u001b[39m\u001b[38;5;124m\"\u001b[39m][\u001b[38;5;124m\"\u001b[39m\u001b[38;5;124my\u001b[39m\u001b[38;5;124m\"\u001b[39m] \u001b[38;5;241m+\u001b[39m i \u001b[38;5;241m*\u001b[39m \u001b[38;5;241m0.1\u001b[39m\n\u001b[0;32m    182\u001b[0m     df\u001b[38;5;241m.\u001b[39mappend(energy_df)\n",
      "File \u001b[1;32mc:\\Users\\hduva\\pyref\\docs\\notebooks\\data_collection\\runfile.py:85\u001b[0m, in \u001b[0;36mprocess_energy\u001b[1;34m(df_slice, config, energy)\u001b[0m\n\u001b[0;32m     83\u001b[0m \u001b[38;5;250m\u001b[39m\u001b[38;5;124;03m\"\"\"Generate a chunk for a single energy.\"\"\"\u001b[39;00m\n\u001b[0;32m     84\u001b[0m \u001b[38;5;28mprint\u001b[39m(df_slice)\n\u001b[1;32m---> 85\u001b[0m theta \u001b[38;5;241m=\u001b[39m \u001b[43mdf_slice\u001b[49m\u001b[43m[\u001b[49m\u001b[38;5;124;43m\"\u001b[39;49m\u001b[38;5;124;43mtheta\u001b[39;49m\u001b[38;5;124;43m\"\u001b[39;49m\u001b[43m]\u001b[49m\n\u001b[0;32m     86\u001b[0m hos \u001b[38;5;241m=\u001b[39m df_slice[\u001b[38;5;124m\"\u001b[39m\u001b[38;5;124mhos\u001b[39m\u001b[38;5;124m\"\u001b[39m]\n\u001b[0;32m     87\u001b[0m hes \u001b[38;5;241m=\u001b[39m df_slice[\u001b[38;5;124m\"\u001b[39m\u001b[38;5;124mhes\u001b[39m\u001b[38;5;124m\"\u001b[39m]\n",
      "File \u001b[1;32mc:\\tools\\mambaforge\\envs\\pyref\\Lib\\site-packages\\polars\\series\\series.py:1327\u001b[0m, in \u001b[0;36mSeries.__getitem__\u001b[1;34m(self, item)\u001b[0m\n\u001b[0;32m   1321\u001b[0m     \u001b[38;5;28;01mreturn\u001b[39;00m \u001b[38;5;28mself\u001b[39m\u001b[38;5;241m.\u001b[39m_take_with_series(idx_series)\n\u001b[0;32m   1323\u001b[0m msg \u001b[38;5;241m=\u001b[39m (\n\u001b[0;32m   1324\u001b[0m     \u001b[38;5;124mf\u001b[39m\u001b[38;5;124m\"\u001b[39m\u001b[38;5;124mcannot use `__getitem__` on Series of dtype \u001b[39m\u001b[38;5;132;01m{\u001b[39;00m\u001b[38;5;28mself\u001b[39m\u001b[38;5;241m.\u001b[39mdtype\u001b[38;5;132;01m!r}\u001b[39;00m\u001b[38;5;124m\"\u001b[39m\n\u001b[0;32m   1325\u001b[0m     \u001b[38;5;124mf\u001b[39m\u001b[38;5;124m\"\u001b[39m\u001b[38;5;124m with argument \u001b[39m\u001b[38;5;132;01m{\u001b[39;00mitem\u001b[38;5;132;01m!r}\u001b[39;00m\u001b[38;5;124m of type \u001b[39m\u001b[38;5;132;01m{\u001b[39;00m\u001b[38;5;28mtype\u001b[39m(item)\u001b[38;5;241m.\u001b[39m\u001b[38;5;18m__name__\u001b[39m\u001b[38;5;132;01m!r}\u001b[39;00m\u001b[38;5;124m\"\u001b[39m\n\u001b[0;32m   1326\u001b[0m )\n\u001b[1;32m-> 1327\u001b[0m \u001b[38;5;28;01mraise\u001b[39;00m \u001b[38;5;167;01mTypeError\u001b[39;00m(msg)\n",
      "\u001b[1;31mTypeError\u001b[0m: cannot use `__getitem__` on Series of dtype Struct({'theta': List(Int64), 'hos': List(Int64), 'et': List(Float64), 'hes': List(Int64)}) with argument 'theta' of type 'str'"
     ]
    }
   ],
   "source": [
    "runfile.runfile()"
   ]
  },
  {
   "cell_type": "code",
   "execution_count": null,
   "metadata": {},
   "outputs": [],
   "source": []
  }
 ],
 "metadata": {
  "kernelspec": {
   "display_name": "pypxr1",
   "language": "python",
   "name": "python3"
  },
  "language_info": {
   "codemirror_mode": {
    "name": "ipython",
    "version": 3
   },
   "file_extension": ".py",
   "mimetype": "text/x-python",
   "name": "python",
   "nbconvert_exporter": "python",
   "pygments_lexer": "ipython3",
   "version": "3.12.2"
  },
  "vscode": {
   "interpreter": {
    "hash": "0b7c11e2e6346d225c31f6f05db621efff5c28ee0b2185af9730a9bcb500bdec"
   }
  }
 },
 "nbformat": 4,
 "nbformat_minor": 4
}
