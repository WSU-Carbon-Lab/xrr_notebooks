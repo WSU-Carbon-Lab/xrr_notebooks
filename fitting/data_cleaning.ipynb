{
 "cells": [
  {
   "cell_type": "code",
   "execution_count": 26,
   "metadata": {},
   "outputs": [],
   "source": [
    "import pyref as ref\n",
    "import polars as pl\n",
    "from pathlib import Path\n",
    "import pandas as pd"
   ]
  },
  {
   "cell_type": "markdown",
   "metadata": {},
   "source": [
    "# Data cleaning and processing for reflectivity data"
   ]
  },
  {
   "cell_type": "code",
   "execution_count": 47,
   "metadata": {},
   "outputs": [
    {
     "name": "stdout",
     "output_type": "stream",
     "text": [
      "[WindowsPath('C:/Users/hduva/Washington State University (email.wsu.edu)/Carbon Lab Research Group - Documents/Synchrotron Logistics and Data/ALS - Berkeley/Data/BL1101/2024Apr/XRR/Processed/ZnPcOLD_/CCD Scan 83703'), WindowsPath('C:/Users/hduva/Washington State University (email.wsu.edu)/Carbon Lab Research Group - Documents/Synchrotron Logistics and Data/ALS - Berkeley/Data/BL1101/2024Apr/XRR/Processed/ZnPcOLD_/CCD Scan 83704'), WindowsPath('C:/Users/hduva/Washington State University (email.wsu.edu)/Carbon Lab Research Group - Documents/Synchrotron Logistics and Data/ALS - Berkeley/Data/BL1101/2024Apr/XRR/Processed/ZnPcOLD_/CCD Scan 83705'), WindowsPath('C:/Users/hduva/Washington State University (email.wsu.edu)/Carbon Lab Research Group - Documents/Synchrotron Logistics and Data/ALS - Berkeley/Data/BL1101/2024Apr/XRR/Processed/ZnPcOLD_/CCD Scan 83706'), WindowsPath('C:/Users/hduva/Washington State University (email.wsu.edu)/Carbon Lab Research Group - Documents/Synchrotron Logistics and Data/ALS - Berkeley/Data/BL1101/2024Apr/XRR/Processed/ZnPcOLD_/CCD Scan 83707'), WindowsPath('C:/Users/hduva/Washington State University (email.wsu.edu)/Carbon Lab Research Group - Documents/Synchrotron Logistics and Data/ALS - Berkeley/Data/BL1101/2024Apr/XRR/Processed/ZnPcOLD_/CCD Scan 83708'), WindowsPath('C:/Users/hduva/Washington State University (email.wsu.edu)/Carbon Lab Research Group - Documents/Synchrotron Logistics and Data/ALS - Berkeley/Data/BL1101/2024Apr/XRR/Processed/ZnPcOLD_/CCD Scan 83709'), WindowsPath('C:/Users/hduva/Washington State University (email.wsu.edu)/Carbon Lab Research Group - Documents/Synchrotron Logistics and Data/ALS - Berkeley/Data/BL1101/2024Apr/XRR/Processed/ZnPcOLD_/CCD Scan 83710'), WindowsPath('C:/Users/hduva/Washington State University (email.wsu.edu)/Carbon Lab Research Group - Documents/Synchrotron Logistics and Data/ALS - Berkeley/Data/BL1101/2024Apr/XRR/Processed/ZnPcOLD_/CCD Scan 83711'), WindowsPath('C:/Users/hduva/Washington State University (email.wsu.edu)/Carbon Lab Research Group - Documents/Synchrotron Logistics and Data/ALS - Berkeley/Data/BL1101/2024Apr/XRR/Processed/ZnPcOLD_/CCD Scan 83712'), WindowsPath('C:/Users/hduva/Washington State University (email.wsu.edu)/Carbon Lab Research Group - Documents/Synchrotron Logistics and Data/ALS - Berkeley/Data/BL1101/2024Apr/XRR/Processed/ZnPc_20nm/CCD Scan 83715'), WindowsPath('C:/Users/hduva/Washington State University (email.wsu.edu)/Carbon Lab Research Group - Documents/Synchrotron Logistics and Data/ALS - Berkeley/Data/BL1101/2024Apr/XRR/Processed/ZnPc_20nm/CCD Scan 83716'), WindowsPath('C:/Users/hduva/Washington State University (email.wsu.edu)/Carbon Lab Research Group - Documents/Synchrotron Logistics and Data/ALS - Berkeley/Data/BL1101/2024Apr/XRR/Processed/ZnPc_20nm/CCD Scan 83717'), WindowsPath('C:/Users/hduva/Washington State University (email.wsu.edu)/Carbon Lab Research Group - Documents/Synchrotron Logistics and Data/ALS - Berkeley/Data/BL1101/2024Apr/XRR/Processed/ZnPc_2nm/CCD Scan 83713'), WindowsPath('C:/Users/hduva/Washington State University (email.wsu.edu)/Carbon Lab Research Group - Documents/Synchrotron Logistics and Data/ALS - Berkeley/Data/BL1101/2024Apr/XRR/Processed/ZnPc_2nm/CCD Scan 83714'), WindowsPath('C:/Users/hduva/Washington State University (email.wsu.edu)/Carbon Lab Research Group - Documents/Synchrotron Logistics and Data/ALS - Berkeley/Data/BL1101/2024Apr/XRR/Processed/ZnPc_40nm/CCD Scan 83731'), WindowsPath('C:/Users/hduva/Washington State University (email.wsu.edu)/Carbon Lab Research Group - Documents/Synchrotron Logistics and Data/ALS - Berkeley/Data/BL1101/2024Apr/XRR/Processed/ZnPc_40nm/CCD Scan 83781'), WindowsPath('C:/Users/hduva/Washington State University (email.wsu.edu)/Carbon Lab Research Group - Documents/Synchrotron Logistics and Data/ALS - Berkeley/Data/BL1101/2024Apr/XRR/Processed/ZnPc_40nm/CCD Scan 83782'), WindowsPath('C:/Users/hduva/Washington State University (email.wsu.edu)/Carbon Lab Research Group - Documents/Synchrotron Logistics and Data/ALS - Berkeley/Data/BL1101/2024Apr/XRR/Processed/ZnPc_40nm/CCD Scan 83783'), WindowsPath('C:/Users/hduva/Washington State University (email.wsu.edu)/Carbon Lab Research Group - Documents/Synchrotron Logistics and Data/ALS - Berkeley/Data/BL1101/2024Apr/XRR/Processed/ZnPc_40nm/CCD Scan 83784'), WindowsPath('C:/Users/hduva/Washington State University (email.wsu.edu)/Carbon Lab Research Group - Documents/Synchrotron Logistics and Data/ALS - Berkeley/Data/BL1101/2024Apr/XRR/Processed/ZnPc_40nm/CCD Scan 83785')]\n"
     ]
    }
   ],
   "source": [
    "beamtime = Path(\n",
    "    \"C:/Users/hduva/Washington State University (email.wsu.edu)/Carbon Lab Research Group - Documents/Synchrotron Logistics and Data/ALS - Berkeley/Data/BL1101/2024Apr/XRR/Processed\"\n",
    ")\n",
    "\n",
    "ccd_dirs = [file for file in beamtime.glob(\"**/CCD*\") if file.is_dir()]\n",
    "print(ccd_dirs)"
   ]
  },
  {
   "cell_type": "code",
   "execution_count": 45,
   "metadata": {},
   "outputs": [
    {
     "name": "stdout",
     "output_type": "stream",
     "text": [
      "Error: list index out of range\n",
      "In scan 250 & 100 of scan CCD Scan 83703\n",
      "Error: list index out of range\n",
      "In scan 250 & 100 of scan CCD Scan 83704\n",
      "Error: list index out of range\n",
      "In scan 250 & 100 of scan CCD Scan 83705\n",
      "Error: list index out of range\n",
      "In scan 250 & 100 of scan CCD Scan 83706\n",
      "Error: list index out of range\n",
      "In scan 250 & 100 of scan CCD Scan 83707\n",
      "Error: list index out of range\n",
      "In scan 250 & 100 of scan CCD Scan 83708\n",
      "Error: list index out of range\n",
      "In scan 250 & 100 of scan CCD Scan 83709\n",
      "Error: Unable to coerce to DataFrame, shape must be (1, 15): given (4, 15)\n",
      "In scan 283 & 100 of scan CCD Scan 83711\n",
      "Error: operands could not be broadcast together with shapes (3,) (4,) \n",
      "In scan 283 & 100 of scan CCD Scan 83712\n",
      "Error: list index out of range\n",
      "In scan 250 & 100 of scan CCD Scan 83714\n",
      "Error: list index out of range\n",
      "In scan 250 & 190 of scan CCD Scan 83781\n",
      "Error: list index out of range\n",
      "In scan 250 & 190 of scan CCD Scan 83782\n",
      "Error: list index out of range\n",
      "In scan 250 & 190 of scan CCD Scan 83783\n"
     ]
    }
   ],
   "source": [
    "def process_all(ccd_dirs: list[Path]):\n",
    "    from warnings import filterwarnings\n",
    "    filterwarnings(\"ignore\")\n",
    "    all_data = []\n",
    "    for ccd_dir in ccd_dirs:\n",
    "        scan_id = ccd_dir.stem\n",
    "        data_files = list(ccd_dir.glob(\"*/*\"))\n",
    "        for files in data_files:\n",
    "            energy = files.parent.stem\n",
    "            pol = files.stem\n",
    "            try:\n",
    "                data = ref.Refl(files)\n",
    "                df = data.refl\n",
    "            except Exception as e:\n",
    "                print(f\"Error: {e}\")\n",
    "                print(f\"In scan {energy} & {pol} of scan {scan_id}\")\n",
    "                df = pd.DataFrame()\n",
    "            if not df.empty:\n",
    "                df[\"scan_id\"] = scan_id\n",
    "                df[\"energy\"] = energy\n",
    "                df[\"polarization\"] = pol\n",
    "                df = pl.from_pandas(df)\n",
    "                all_data.append(df)\n",
    "    if len(all_data) > 0:\n",
    "        return pl.concat(all_data)\n",
    "    else:\n",
    "        return None\n",
    "\n",
    "df = process_all(ccd_dirs)"
   ]
  },
  {
   "cell_type": "code",
   "execution_count": 32,
   "metadata": {},
   "outputs": [
    {
     "data": {
      "text/html": [
       "<div><style>\n",
       ".dataframe > thead > tr,\n",
       ".dataframe > tbody > tr {\n",
       "  text-align: right;\n",
       "  white-space: pre-wrap;\n",
       "}\n",
       "</style>\n",
       "<small>shape: (5, 15)</small><table border=\"1\" class=\"dataframe\"><thead><tr><th>Energy</th><th>Theta</th><th>Current</th><th>HOS</th><th>POL</th><th>Exposure</th><th>Intensity</th><th>Background</th><th>RawRefl</th><th>Refl</th><th>Err</th><th>Q</th><th>k</th><th>lam</th><th>lamErr</th></tr><tr><td>f64</td><td>f64</td><td>f64</td><td>f64</td><td>f64</td><td>f64</td><td>f64</td><td>f64</td><td>f64</td><td>f64</td><td>f64</td><td>f64</td><td>f64</td><td>f64</td><td>f64</td></tr></thead><tbody><tr><td>250.0062</td><td>0.616</td><td>500.3415</td><td>8.9</td><td>100.0</td><td>0.001</td><td>274839.0</td><td>58611.0</td><td>216228.0</td><td>0.863552</td><td>0.002024</td><td>0.0027</td><td>586.849521</td><td>500.445471</td><td>0.09094</td></tr><tr><td>250.0024</td><td>1.23</td><td>500.1958</td><td>8.9</td><td>100.0</td><td>0.001</td><td>227302.0</td><td>58257.0</td><td>169045.0</td><td>0.675314</td><td>0.001583</td><td>0.0054</td><td>586.849521</td><td>500.445471</td><td>0.09094</td></tr><tr><td>250.0005</td><td>1.846</td><td>500.0272</td><td>8.9</td><td>100.0</td><td>0.001</td><td>216157.0</td><td>58903.0</td><td>157254.0</td><td>0.628422</td><td>0.001474</td><td>0.0082</td><td>586.849521</td><td>500.445471</td><td>0.09094</td></tr><tr><td>249.9986</td><td>2.462</td><td>500.2766</td><td>8.9</td><td>100.0</td><td>0.001</td><td>255292.0</td><td>59154.0</td><td>196138.0</td><td>0.78342</td><td>0.001837</td><td>0.0109</td><td>586.849521</td><td>500.445471</td><td>0.09094</td></tr><tr><td>249.9986</td><td>3.076</td><td>500.1187</td><td>8.9</td><td>100.0</td><td>0.001</td><td>226899.0</td><td>58839.0</td><td>168060.0</td><td>0.671482</td><td>0.001575</td><td>0.0136</td><td>586.849521</td><td>500.445471</td><td>0.09094</td></tr></tbody></table></div>"
      ],
      "text/plain": [
       "shape: (5, 15)\n",
       "┌──────────┬───────┬──────────┬─────┬───┬────────┬────────────┬────────────┬─────────┐\n",
       "│ Energy   ┆ Theta ┆ Current  ┆ HOS ┆ … ┆ Q      ┆ k          ┆ lam        ┆ lamErr  │\n",
       "│ ---      ┆ ---   ┆ ---      ┆ --- ┆   ┆ ---    ┆ ---        ┆ ---        ┆ ---     │\n",
       "│ f64      ┆ f64   ┆ f64      ┆ f64 ┆   ┆ f64    ┆ f64        ┆ f64        ┆ f64     │\n",
       "╞══════════╪═══════╪══════════╪═════╪═══╪════════╪════════════╪════════════╪═════════╡\n",
       "│ 250.0062 ┆ 0.616 ┆ 500.3415 ┆ 8.9 ┆ … ┆ 0.0027 ┆ 586.849521 ┆ 500.445471 ┆ 0.09094 │\n",
       "│ 250.0024 ┆ 1.23  ┆ 500.1958 ┆ 8.9 ┆ … ┆ 0.0054 ┆ 586.849521 ┆ 500.445471 ┆ 0.09094 │\n",
       "│ 250.0005 ┆ 1.846 ┆ 500.0272 ┆ 8.9 ┆ … ┆ 0.0082 ┆ 586.849521 ┆ 500.445471 ┆ 0.09094 │\n",
       "│ 249.9986 ┆ 2.462 ┆ 500.2766 ┆ 8.9 ┆ … ┆ 0.0109 ┆ 586.849521 ┆ 500.445471 ┆ 0.09094 │\n",
       "│ 249.9986 ┆ 3.076 ┆ 500.1187 ┆ 8.9 ┆ … ┆ 0.0136 ┆ 586.849521 ┆ 500.445471 ┆ 0.09094 │\n",
       "└──────────┴───────┴──────────┴─────┴───┴────────┴────────────┴────────────┴─────────┘"
      ]
     },
     "execution_count": 32,
     "metadata": {},
     "output_type": "execute_result"
    }
   ],
   "source": [
    "df.head()"
   ]
  },
  {
   "cell_type": "code",
   "execution_count": null,
   "metadata": {},
   "outputs": [],
   "source": []
  }
 ],
 "metadata": {
  "kernelspec": {
   "display_name": "pyref",
   "language": "python",
   "name": "python3"
  },
  "language_info": {
   "codemirror_mode": {
    "name": "ipython",
    "version": 3
   },
   "file_extension": ".py",
   "mimetype": "text/x-python",
   "name": "python",
   "nbconvert_exporter": "python",
   "pygments_lexer": "ipython3",
   "version": "3.12.2"
  }
 },
 "nbformat": 4,
 "nbformat_minor": 2
}
