{
 "cells": [
  {
   "cell_type": "code",
   "execution_count": 2,
   "metadata": {},
   "outputs": [],
   "source": [
    "import polars as pl\n",
    "import pandas as pd\n",
    "import numpy as np"
   ]
  },
  {
   "cell_type": "code",
   "execution_count": 3,
   "metadata": {},
   "outputs": [
    {
     "name": "stdout",
     "output_type": "stream",
     "text": [
      "shape: (13, 17)\n",
      "┌────────────┬────────────┬────────────┬───────────┬───┬────────┬────────────┬───────────┬─────────┐\n",
      "│ Transition ┆ Transition ┆ Transition ┆ TDM_x     ┆ … ┆ TDM_yz ┆ Originatin ┆ Originati ┆ Cluster │\n",
      "│ Energy     ┆ Amplitude  ┆ Width (eV) ┆ ---       ┆   ┆ ---    ┆ g atom     ┆ ng MO     ┆ ---     │\n",
      "│ (eV)       ┆ (a.u.)     ┆ ---        ┆ f64       ┆   ┆ i64    ┆ ---        ┆ ---       ┆ f64     │\n",
      "│ ---        ┆ ---        ┆ f64        ┆           ┆   ┆        ┆ i64        ┆ i64       ┆         │\n",
      "│ f64        ┆ f64        ┆            ┆           ┆   ┆        ┆            ┆           ┆         │\n",
      "╞════════════╪════════════╪════════════╪═══════════╪═══╪════════╪════════════╪═══════════╪═════════╡\n",
      "│ 283.80191  ┆ 0.017448   ┆ 0.236435   ┆ 0.039977  ┆ … ┆ 0      ┆ 1          ┆ 117       ┆ null    │\n",
      "│ 284.68234  ┆ 0.048513   ┆ 0.223871   ┆ 0.022457  ┆ … ┆ 0      ┆ 2          ┆ 119       ┆ null    │\n",
      "│ 285.20261  ┆ 0.014443   ┆ 0.225601   ┆ 0.030391  ┆ … ┆ 0      ┆ 1          ┆ 119       ┆ null    │\n",
      "│ 286.24313  ┆ 0.0231     ┆ 0.213482   ┆ 0.015321  ┆ … ┆ 0      ┆ 4          ┆ 124       ┆ null    │\n",
      "│ 286.72336  ┆ 0.013969   ┆ 0.215778   ┆ 1.4206451 ┆ … ┆ 0      ┆ 1          ┆ 124       ┆ null    │\n",
      "│ …          ┆ …          ┆ …          ┆ …         ┆ … ┆ …      ┆ …          ┆ …         ┆ …       │\n",
      "│ 291.64581  ┆ 0.024999   ┆ 0.728375   ┆ 10.60523  ┆ … ┆ 0      ┆ 1          ┆ 209       ┆ null    │\n",
      "│ 293.56677  ┆ 0.02364    ┆ 1.1496792  ┆ 6.427237  ┆ … ┆ 0      ┆ 3          ┆ 249       ┆ null    │\n",
      "│ 297.76889  ┆ 0.025438   ┆ 2.0235858  ┆ 29.610764 ┆ … ┆ 0      ┆ 4          ┆ 325       ┆ null    │\n",
      "│ 303.09155  ┆ 0.01899    ┆ 2.9214482  ┆ 29.661249 ┆ … ┆ 0      ┆ 2          ┆ 382       ┆ null    │\n",
      "│ 312.53625  ┆ 0.017865   ┆ 5.3668461  ┆ 36.986797 ┆ … ┆ 0      ┆ 4          ┆ 449       ┆ null    │\n",
      "└────────────┴────────────┴────────────┴───────────┴───┴────────┴────────────┴───────────┴─────────┘\n",
      "13\n"
     ]
    }
   ],
   "source": [
    "df = pd.read_csv(\"Clustered.txt\", skiprows=1,\n",
    "                         names=[\"Transition Energy (eV)\", \"Transition Amplitude (a.u.)\", \"Transition Width (eV)\",\n",
    "                                \"TDM_x\", \"TDM_y\", \"TDM_z\", \"TDM Theta (degrees)\", \"Transition Symmetry\",\n",
    "                                \"TDM_xx\", \"TDM_yy\", \"TDM_zz\", \"TDM_xy\", \"TDM_xz\", \"TDM_yz\", \"Originating atom\",\n",
    "                                \"Originating MO\", \"Cluster\"])\n",
    "\n",
    "df = pl.from_dataframe(df)\n",
    "print(df)\n",
    "print(len(df))"
   ]
  },
  {
   "cell_type": "code",
   "execution_count": 28,
   "metadata": {},
   "outputs": [
    {
     "data": {
      "text/plain": [
       "[<matplotlib.lines.Line2D at 0x20e09fa1dc0>]"
      ]
     },
     "execution_count": 28,
     "metadata": {},
     "output_type": "execute_result"
    },
    {
     "data": {
      "image/png": "[encoded data removed]",
      "text/plain": [
       "<Figure size 640x480 with 1 Axes>"
      ]
     },
     "metadata": {},
     "output_type": "display_data"
    }
   ],
   "source": [
    "import periodictable as pt\n",
    "import periodictable.xsf as xsf\n",
    "\n",
    "\n",
    "def sim_ma(tensor, position, width, theta, phi):\n",
    "    en = np.linspace(283, 320, 10000)\n",
    "    e = np.array(\n",
    "        [np.sin(theta) * np.cos(phi), np.sin(theta) * np.sin(phi), np.cos(theta)]\n",
    "    )\n",
    "\n",
    "    # Use einsum to calculate the matrix element\n",
    "    ma = e.T @ tensor @ e\n",
    "\n",
    "    peak = 1 / width * np.exp(-(((en - position) / width) ** 2))\n",
    "    return peak * ma, en\n",
    "\n",
    "\n",
    "def sim_ma_cluster(df, cluster, theta=0, phi=0):\n",
    "    # Extract the tensor and convert into a diagonal matrix\n",
    "    tensor = np.diag(df[cluster, [\"TDM_xx\", \"TDM_yy\", \"TDM_zz\"]].to_numpy()[0])\n",
    "    position = df[cluster, \"Transition Energy (eV)\"]\n",
    "    width = df[cluster, \"Transition Width (eV)\"]\n",
    "    theta = np.radians(theta)\n",
    "\n",
    "    ma, en = sim_ma(tensor, position, width, theta, phi)\n",
    "    return ma, en\n",
    "\n",
    "\n",
    "def sim_bare_atom(molecule):\n",
    "    en = np.linspace(283, 320, 10000)\n",
    "    # convert to keV\n",
    "    en *= 1e-3\n",
    "    lam = 1.23984e-4 / en\n",
    "\n",
    "    # Paserse the molecule into a list of elements\n",
    "    molecule = pt.formula(molecule)\n",
    "    atoms = molecule.atoms\n",
    "    f1 = 0\n",
    "    f2 = 0\n",
    "    w = molecule.mass\n",
    "\n",
    "    for atom in atoms.keys():\n",
    "        xray = xsf.Xray(atom)\n",
    "        _f1, _f2 = xray.scattering_factors(energy = en)\n",
    "        f1 += atoms[atom] * _f1\n",
    "        f2 += atoms[atom] * _f2\n",
    "\n",
    "    # Mass absorption is only really f2\n",
    "    mu = 2* pt.constants.electron_radius*lam*f2/w\n",
    "    return mu, en\n",
    "\n",
    "def sim_step(molecule):\n",
    "    mu, en = sim_bare_atom(molecule)\n",
    "\n",
    "\n",
    "\n",
    "mu, en = sim_bare_atom(\"C32H16N8Zn1\")\n",
    "import matplotlib.pyplot as plt\n",
    "plt.plot(en, mu)"
   ]
  },
  {
   "cell_type": "code",
   "execution_count": 31,
   "metadata": {},
   "outputs": [
    {
     "data": {
      "application/vnd.jupyter.widget-view+json": {
       "model_id": "c86cf2f939574e73bf6af98acaa55f8c",
       "version_major": 2,
       "version_minor": 0
      },
      "text/plain": [
       "interactive(children=(IntSlider(value=0, description='theta', max=90), IntSlider(value=0, description='phi', m…"
      ]
     },
     "metadata": {},
     "output_type": "display_data"
    }
   ],
   "source": [
    "import matplotlib.pyplot as plt\n",
    "import ipywidgets as widgets\n",
    "\n",
    "def combine_ma(df, theta = 0, phi = 0):\n",
    "    ma = []\n",
    "    mu, en = sim_bare_atom(\"C32H16N8Zn1\")\n",
    "    ma.append(mu)\n",
    "    for cluser in range(len(df)):\n",
    "        ma_, en = sim_ma_cluster(df, cluser, theta, phi)\n",
    "        ma.append(ma_)\n",
    "    return np.array(ma), en\n",
    "\n",
    "@widgets.interact(theta = (0, 90, 1), phi = (0, 360, 1))\n",
    "def plot_ma(theta = 0, phi = 0):\n",
    "    ma, en = combine_ma(df, theta, phi)\n",
    "    plt.plot(en, np.sum(ma, axis=0))"
   ]
  },
  {
   "cell_type": "code",
   "execution_count": null,
   "metadata": {},
   "outputs": [],
   "source": []
  }
 ],
 "metadata": {
  "kernelspec": {
   "display_name": "Python 3",
   "language": "python",
   "name": "python3"
  },
  "language_info": {
   "codemirror_mode": {
    "name": "ipython",
    "version": 3
   },
   "file_extension": ".py",
   "mimetype": "text/x-python",
   "name": "python",
   "nbconvert_exporter": "python",
   "pygments_lexer": "ipython3",
   "version": "3.12.0"
  }
 },
 "nbformat": 4,
 "nbformat_minor": 2
}
